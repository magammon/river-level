{
 "cells": [
  {
   "cell_type": "code",
   "execution_count": 5,
   "metadata": {},
   "outputs": [
    {
     "name": "stdout",
     "output_type": "stream",
     "text": [
      "200\n",
      "5.863\n"
     ]
    }
   ],
   "source": [
    "import requests as rq\n",
    "import json\n",
    "\n",
    "## define function jprint which makes the json output look pretty and easy to understand\n",
    "def jprint(obj):\n",
    "        #text = json.dumps(obj['items']['latestReading'], sort_keys=True, indent=4)\n",
    "        text = json.dumps(obj['items']['stageScale']['typicalRangeHigh'], sort_keys=True, indent=4)\n",
    "        print(text)\n",
    "\n",
    "response = rq.get(\"https://environment.data.gov.uk/flood-monitoring/id/stations/531160.json\") ##updated with the measure api instead of the station one\n",
    "\n",
    "print(response.status_code)\n",
    "\n",
    "jprint(response.json())"
   ]
  },
  {
   "cell_type": "code",
   "execution_count": null,
   "metadata": {},
   "outputs": [],
   "source": [
    "import requests as rq\n",
    "import json\n",
    "\n",
    "## define function jprint which makes the json output look pretty and easy to understand\n",
    "def jprint(obj):\n",
    "        #text = json.dumps(obj['items']['latestReading'], sort_keys=True, indent=4)\n",
    "        text = json.dumps(obj['items']['stageScale']['maxOnRecord']['value'], sort_keys=True, indent=4)\n",
    "        print(text)\n",
    "\n",
    "response = rq.get(\"https://environment.data.gov.uk/flood-monitoring/id/stations/531160.json\") ##updated with the measure api instead of the station one\n",
    "\n",
    "print(response.status_code)\n",
    "\n",
    "jprint(response.json())"
   ]
  },
  {
   "cell_type": "code",
   "execution_count": 1,
   "metadata": {},
   "outputs": [
    {
     "name": "stdout",
     "output_type": "stream",
     "text": [
      "Serving sensor metrics on :8897\n"
     ]
    },
    {
     "ename": "KeyboardInterrupt",
     "evalue": "",
     "output_type": "error",
     "traceback": [
      "\u001b[0;31m---------------------------------------------------------------------------\u001b[0m",
      "\u001b[0;31mKeyboardInterrupt\u001b[0m                         Traceback (most recent call last)",
      "Cell \u001b[0;32mIn[1], line 65\u001b[0m\n\u001b[1;32m     62\u001b[0m \u001b[38;5;28mprint\u001b[39m(\u001b[38;5;124m\"\u001b[39m\u001b[38;5;124mServing sensor metrics on :\u001b[39m\u001b[38;5;132;01m{}\u001b[39;00m\u001b[38;5;124m\"\u001b[39m\u001b[38;5;241m.\u001b[39mformat(METRICS_PORT))\n\u001b[1;32m     64\u001b[0m \u001b[38;5;28;01mwhile\u001b[39;00m \u001b[38;5;28;01mTrue\u001b[39;00m:\n\u001b[0;32m---> 65\u001b[0m     \u001b[43msetGauge\u001b[49m\u001b[43m(\u001b[49m\u001b[43m)\u001b[49m\n",
      "Cell \u001b[0;32mIn[1], line 56\u001b[0m, in \u001b[0;36msetGauge\u001b[0;34m()\u001b[0m\n\u001b[1;32m     53\u001b[0m gauge_typical_level\u001b[38;5;241m.\u001b[39mset(getTypical(station_response\u001b[38;5;241m.\u001b[39mjson()))\n\u001b[1;32m     54\u001b[0m gauge_max_record\u001b[38;5;241m.\u001b[39mset(getRecordMax(station_response\u001b[38;5;241m.\u001b[39mjson()))\n\u001b[0;32m---> 56\u001b[0m \u001b[43mtime\u001b[49m\u001b[38;5;241;43m.\u001b[39;49m\u001b[43msleep\u001b[49m\u001b[43m(\u001b[49m\u001b[43mREAD_INTERVAL\u001b[49m\u001b[43m \u001b[49m\u001b[38;5;241;43m*\u001b[39;49m\u001b[43m \u001b[49m\u001b[43mREAD_UNITS\u001b[49m\u001b[43m)\u001b[49m\n",
      "\u001b[0;31mKeyboardInterrupt\u001b[0m: "
     ]
    }
   ],
   "source": [
    "import json\n",
    "import time\n",
    "import requests as rq\n",
    "# Import Gauge and start_http_server from prometheus_client\n",
    "from prometheus_client import Gauge, start_http_server\n",
    "\n",
    "## set read interval\n",
    "READ_INTERVAL = 1\n",
    "\n",
    "## set read interval units. 1 = seconds, 60 = minutes, 3600 = hours, 86400 = days\n",
    "READ_UNITS = 60\n",
    "\n",
    "## set api uris\n",
    "MEASURE_API = \"https://environment.data.gov.uk/flood-monitoring/id/measures/531160-level-stage-i-15_min-mASD.json\"\n",
    "\n",
    "STATION_API = \"https://environment.data.gov.uk/flood-monitoring/id/stations/531160.json\"\n",
    "\n",
    "## initialise the gauges\n",
    "\n",
    "gauge_river_level = Gauge('keynsham_river_level', 'River level at Keynsham Rivermeads')\n",
    "\n",
    "gauge_typical_level = Gauge('keynsham_typical_level', 'Typical max level at Keynsham Rivermeads')\n",
    "\n",
    "gauge_max_record = Gauge('keynsham_max_record', 'max record level at Keynsham Rivermeads')\n",
    "\n",
    "## define function getHeight which makes the json output look pretty and easy to understand\n",
    "def getHeight(obj):\n",
    "    \"\"\"Function takes api output from EA API and returns river level as float.\"\"\"\n",
    "    height = json.dumps(obj['items']['latestReading']['value'])\n",
    "    return float(height)\n",
    "\n",
    "## define function getTypical which makes the json output look pretty and easy to understand\n",
    "def getTypical(obj):\n",
    "    \"\"\"Function takes api output from EA API and returns information about station.\"\"\"\n",
    "    typical = json.dumps(obj['items']['stageScale']['typicalRangeHigh'])\n",
    "    return float(typical)\n",
    "\n",
    "## define function getTypical which makes the json output look pretty and easy to understand\n",
    "def getRecordMax(obj):\n",
    "    \"\"\"Function takes api output from EA API and returns information about station.\"\"\"\n",
    "    recordmax = json.dumps(obj['items']['stageScale']['maxOnRecord']['value'])\n",
    "    return float(recordmax)\n",
    "\n",
    "## define function setGauge. Function calls API and then sets prometheus guage\n",
    "def setGauge():\n",
    "    \"\"\"Function calls API, feeds to getHeight and then sets prometheus guage.\"\"\"\n",
    "    ## get responses\n",
    "    measure_response = rq.get(MEASURE_API)\n",
    "    station_response = rq.get(STATION_API)\n",
    "\n",
    "    ## set river guage river level to output of getHeight function\n",
    "    gauge_river_level.set(getHeight(measure_response.json()))\n",
    "    gauge_typical_level.set(getTypical(station_response.json()))\n",
    "    gauge_max_record.set(getRecordMax(station_response.json()))\n",
    "\n",
    "    time.sleep(READ_INTERVAL * READ_UNITS)\n",
    "\n",
    "if __name__ == \"__main__\":\n",
    "    #expose metrics\n",
    "    METRICS_PORT = 8897\n",
    "    start_http_server(METRICS_PORT)\n",
    "    print(\"Serving sensor metrics on :{}\".format(METRICS_PORT))\n",
    "\n",
    "    while True:\n",
    "        setGauge()\n"
   ]
  }
 ],
 "metadata": {
  "kernelspec": {
   "display_name": "env",
   "language": "python",
   "name": "python3"
  },
  "language_info": {
   "codemirror_mode": {
    "name": "ipython",
    "version": 3
   },
   "file_extension": ".py",
   "mimetype": "text/x-python",
   "name": "python",
   "nbconvert_exporter": "python",
   "pygments_lexer": "ipython3",
   "version": "3.11.7"
  }
 },
 "nbformat": 4,
 "nbformat_minor": 2
}
