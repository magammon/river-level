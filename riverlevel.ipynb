{
 "cells": [
  {
   "cell_type": "markdown",
   "metadata": {},
   "source": [
    "First step is to call the api and check we can receive responses."
   ]
  },
  {
   "cell_type": "code",
   "execution_count": 31,
   "metadata": {},
   "outputs": [
    {
     "name": "stdout",
     "output_type": "stream",
     "text": [
      "200\n",
      "{'@context': 'http://environment.data.gov.uk/flood-monitoring/meta/context.jsonld', 'meta': {'publisher': 'Environment Agency', 'licence': 'http://www.nationalarchives.gov.uk/doc/open-government-licence/version/3/', 'documentation': 'http://environment.data.gov.uk/flood-monitoring/doc/reference', 'version': '0.9', 'comment': 'Status: Beta service', 'hasFormat': ['http://environment.data.gov.uk/flood-monitoring/id/stations/531160.rdf', 'http://environment.data.gov.uk/flood-monitoring/id/stations/531160.ttl', 'http://environment.data.gov.uk/flood-monitoring/id/stations/531160.html']}, 'items': {'@id': 'http://environment.data.gov.uk/flood-monitoring/id/stations/531160', 'RLOIid': '3416', 'catchmentName': 'Bristol Avon Little Avon Axe and North Somerset St', 'dateOpened': '2008-12-01', 'datumOffset': 4.115, 'eaAreaName': 'South West - Wessex', 'eaRegionName': 'South West', 'easting': 366165, 'gridReference': 'ST6616569003', 'label': 'Keynsham, Rivermead', 'lat': 51.419019, 'long': -2.487954, 'measures': [{'@id': 'http://environment.data.gov.uk/flood-monitoring/id/measures/531160-level-stage-i-15_min-m', 'label': 'KEYNSHAM ADCP - level-stage-i-15_min-m', 'latestReading': 'http://environment.data.gov.uk/flood-monitoring/data/readings/531160-level-stage-i-15_min-m/2023-11-23T08-30-00Z', 'notation': '531160-level-stage-i-15_min-m', 'parameter': 'level', 'parameterName': 'Water Level', 'period': 900, 'qualifier': 'Stage', 'station': 'http://environment.data.gov.uk/flood-monitoring/id/stations/531160', 'stationReference': '531160', 'type': ['http://environment.data.gov.uk/flood-monitoring/def/core/Measure', 'http://environment.data.gov.uk/flood-monitoring/def/core/WaterLevel'], 'unit': 'http://qudt.org/1.1/vocab/unit#Meter', 'unitName': 'm', 'valueType': 'instantaneous'}, {'@id': 'http://environment.data.gov.uk/flood-monitoring/id/measures/531160-level-stage-i-15_min-mASD', 'datumType': 'http://environment.data.gov.uk/flood-monitoring/def/core/datumASD', 'label': 'KEYNSHAM ADCP - level-stage-i-15_min-mASD', 'latestReading': {'@id': 'http://environment.data.gov.uk/flood-monitoring/data/readings/531160-level-stage-i-15_min-mASD/2024-02-29T00-00-00Z', 'date': '2024-02-29', 'dateTime': '2024-02-29T00:00:00Z', 'measure': 'http://environment.data.gov.uk/flood-monitoring/id/measures/531160-level-stage-i-15_min-mASD', 'value': 5.141}, 'notation': '531160-level-stage-i-15_min-mASD', 'parameter': 'level', 'parameterName': 'Water Level', 'period': 900, 'qualifier': 'Stage', 'station': 'http://environment.data.gov.uk/flood-monitoring/id/stations/531160', 'stationReference': '531160', 'type': ['http://environment.data.gov.uk/flood-monitoring/def/core/Measure', 'http://environment.data.gov.uk/flood-monitoring/def/core/WaterLevel'], 'unit': 'http://qudt.org/1.1/vocab/unit#Meter', 'unitName': 'mASD', 'valueType': 'instantaneous'}], 'northing': 169003, 'notation': '531160', 'riverName': 'River Avon', 'stageScale': {'@id': 'http://environment.data.gov.uk/flood-monitoring/id/stations/531160/stageScale', 'datum': 4.115, 'highestRecent': {'@id': 'http://environment.data.gov.uk/flood-monitoring/id/stations/531160/stageScale/highestRecent', 'dateTime': '2015-01-17T00:15:00', 'value': 6.464}, 'maxOnRecord': {'@id': 'http://environment.data.gov.uk/flood-monitoring/id/stations/531160/stageScale/maxOnRecord', 'dateTime': '2013-12-25T04:15:00', 'value': 7.956}, 'minOnRecord': {'@id': 'http://environment.data.gov.uk/flood-monitoring/id/stations/531160/stageScale/minOnRecord', 'dateTime': '2009-07-04T17:00:00', 'value': 0.806}, 'scaleMax': 8, 'typicalRangeHigh': 5.863, 'typicalRangeLow': 4.955}, 'stationReference': '531160', 'status': 'http://environment.data.gov.uk/flood-monitoring/def/core/statusActive', 'town': 'Keynsham', 'type': ['http://environment.data.gov.uk/flood-monitoring/def/core/SingleLevel', 'http://environment.data.gov.uk/flood-monitoring/def/core/Station'], 'wiskiID': '530188'}}\n"
     ]
    }
   ],
   "source": [
    "import requests as rq\n",
    "\n",
    "response = rq.get(\"https://environment.data.gov.uk/flood-monitoring/id/stations/531160.json\")\n",
    "\n",
    "print(response.status_code)\n",
    "\n",
    "print(response.json())"
   ]
  },
  {
   "cell_type": "markdown",
   "metadata": {},
   "source": [
    "Next format the JSON into something nicer with json.dumps"
   ]
  },
  {
   "cell_type": "code",
   "execution_count": 32,
   "metadata": {},
   "outputs": [
    {
     "name": "stdout",
     "output_type": "stream",
     "text": [
      "200\n",
      "{\n",
      "    \"@context\": \"http://environment.data.gov.uk/flood-monitoring/meta/context.jsonld\",\n",
      "    \"items\": {\n",
      "        \"@id\": \"http://environment.data.gov.uk/flood-monitoring/id/measures/531160-level-stage-i-15_min-mASD\",\n",
      "        \"datumType\": \"http://environment.data.gov.uk/flood-monitoring/def/core/datumASD\",\n",
      "        \"label\": \"KEYNSHAM ADCP - level-stage-i-15_min-mASD\",\n",
      "        \"latestReading\": {\n",
      "            \"@id\": \"http://environment.data.gov.uk/flood-monitoring/data/readings/531160-level-stage-i-15_min-mASD/2024-02-29T00-00-00Z\",\n",
      "            \"date\": \"2024-02-29\",\n",
      "            \"dateTime\": \"2024-02-29T00:00:00Z\",\n",
      "            \"measure\": \"http://environment.data.gov.uk/flood-monitoring/id/measures/531160-level-stage-i-15_min-mASD\",\n",
      "            \"value\": 5.141\n",
      "        },\n",
      "        \"notation\": \"531160-level-stage-i-15_min-mASD\",\n",
      "        \"parameter\": \"level\",\n",
      "        \"parameterName\": \"Water Level\",\n",
      "        \"period\": 900,\n",
      "        \"qualifier\": \"Stage\",\n",
      "        \"station\": \"http://environment.data.gov.uk/flood-monitoring/id/stations/531160\",\n",
      "        \"stationReference\": \"531160\",\n",
      "        \"type\": [\n",
      "            \"http://environment.data.gov.uk/flood-monitoring/def/core/Measure\",\n",
      "            \"http://environment.data.gov.uk/flood-monitoring/def/core/WaterLevel\"\n",
      "        ],\n",
      "        \"unit\": \"http://qudt.org/1.1/vocab/unit#Meter\",\n",
      "        \"unitName\": \"mASD\",\n",
      "        \"valueType\": \"instantaneous\"\n",
      "    },\n",
      "    \"meta\": {\n",
      "        \"comment\": \"Status: Beta service\",\n",
      "        \"documentation\": \"http://environment.data.gov.uk/flood-monitoring/doc/reference\",\n",
      "        \"hasFormat\": [\n",
      "            \"http://environment.data.gov.uk/flood-monitoring/id/measures/531160-level-stage-i-15_min-mASD.rdf\",\n",
      "            \"http://environment.data.gov.uk/flood-monitoring/id/measures/531160-level-stage-i-15_min-mASD.ttl\",\n",
      "            \"http://environment.data.gov.uk/flood-monitoring/id/measures/531160-level-stage-i-15_min-mASD.html\"\n",
      "        ],\n",
      "        \"licence\": \"http://www.nationalarchives.gov.uk/doc/open-government-licence/version/3/\",\n",
      "        \"publisher\": \"Environment Agency\",\n",
      "        \"version\": \"0.9\"\n",
      "    }\n",
      "}\n"
     ]
    }
   ],
   "source": [
    "import requests as rq\n",
    "import json\n",
    "\n",
    "## define function jprint which makes the json output look pretty and easy to understand\n",
    "def jprint(obj):\n",
    "        text = json.dumps(obj, sort_keys=True, indent=4)\n",
    "        print(text)\n",
    "\n",
    "response = rq.get(\"https://environment.data.gov.uk/flood-monitoring/id/measures/531160-level-stage-i-15_min-mASD.json\") ##updated with the measure api instead of the station one\n",
    "\n",
    "print(response.status_code)\n",
    "\n",
    "jprint(response.json())"
   ]
  },
  {
   "cell_type": "markdown",
   "metadata": {},
   "source": [
    "trying to get just the particular object"
   ]
  },
  {
   "cell_type": "code",
   "execution_count": 43,
   "metadata": {},
   "outputs": [
    {
     "name": "stdout",
     "output_type": "stream",
     "text": [
      "200\n",
      "{\n",
      "    \"@id\": \"http://environment.data.gov.uk/flood-monitoring/data/readings/531160-level-stage-i-15_min-mASD/2024-02-29T00-15-00Z\",\n",
      "    \"date\": \"2024-02-29\",\n",
      "    \"dateTime\": \"2024-02-29T00:15:00Z\",\n",
      "    \"measure\": \"http://environment.data.gov.uk/flood-monitoring/id/measures/531160-level-stage-i-15_min-mASD\",\n",
      "    \"value\": 5.141\n",
      "}\n"
     ]
    }
   ],
   "source": [
    "import requests as rq\n",
    "import json\n",
    "\n",
    "## define function jprint which makes the json output look pretty and easy to understand\n",
    "def jprint(obj):\n",
    "        text = json.dumps(obj['items']['latestReading'], sort_keys=True, indent=4)\n",
    "        print(text)\n",
    "\n",
    "response = rq.get(\"https://environment.data.gov.uk/flood-monitoring/id/measures/531160-level-stage-i-15_min-mASD.json\") ##updated with the measure api instead of the station one\n",
    "\n",
    "print(response.status_code)\n",
    "\n",
    "jprint(response.json())\n",
    "\n"
   ]
  },
  {
   "cell_type": "markdown",
   "metadata": {},
   "source": [
    "Ok with that bit done we can set a variable to the value of the api response and then print that.\n",
    "\n"
   ]
  },
  {
   "cell_type": "code",
   "execution_count": 2,
   "metadata": {},
   "outputs": [
    {
     "name": "stdout",
     "output_type": "stream",
     "text": [
      "5.142\n"
     ]
    }
   ],
   "source": [
    "import requests as rq\n",
    "import json\n",
    "# Import Gauge and start_http_server from prometheus_client\n",
    "from prometheus_client import Gauge, start_http_server\n",
    "\n",
    "## initialise the guages\n",
    "\n",
    "response = rq.get(\"https://environment.data.gov.uk/flood-monitoring/id/measures/531160-level-stage-i-15_min-mASD.json\")\n",
    "\n",
    "## define function jprint which makes the json output look pretty and easy to understand\n",
    "def jprint(obj):\n",
    "        text = json.dumps(obj['items']['latestReading']['value'])\n",
    "        text = str(text)\n",
    "        print(text)\n",
    "\n",
    "height = jprint(response.json())\n",
    "\n",
    "\n",
    "\n",
    "\n",
    "\n"
   ]
  },
  {
   "cell_type": "markdown",
   "metadata": {},
   "source": [
    "Now try to put it all together so that we can send the information to promoetheus"
   ]
  },
  {
   "cell_type": "code",
   "execution_count": 1,
   "metadata": {},
   "outputs": [
    {
     "name": "stdout",
     "output_type": "stream",
     "text": [
      "Serving sensor metrics on :8897\n",
      "gauge:keynsham_river_level\n",
      "gauge:keynsham_river_level\n",
      "gauge:keynsham_river_level\n",
      "gauge:keynsham_river_level\n",
      "gauge:keynsham_river_level\n",
      "gauge:keynsham_river_level\n",
      "gauge:keynsham_river_level\n",
      "gauge:keynsham_river_level\n",
      "gauge:keynsham_river_level\n",
      "gauge:keynsham_river_level\n",
      "gauge:keynsham_river_level\n",
      "gauge:keynsham_river_level\n",
      "gauge:keynsham_river_level\n",
      "gauge:keynsham_river_level\n",
      "gauge:keynsham_river_level\n",
      "gauge:keynsham_river_level\n",
      "gauge:keynsham_river_level\n",
      "gauge:keynsham_river_level\n",
      "gauge:keynsham_river_level\n",
      "gauge:keynsham_river_level\n",
      "gauge:keynsham_river_level\n",
      "gauge:keynsham_river_level\n",
      "gauge:keynsham_river_level\n",
      "gauge:keynsham_river_level\n",
      "gauge:keynsham_river_level\n",
      "gauge:keynsham_river_level\n",
      "gauge:keynsham_river_level\n",
      "gauge:keynsham_river_level\n",
      "gauge:keynsham_river_level\n",
      "gauge:keynsham_river_level\n",
      "gauge:keynsham_river_level\n",
      "gauge:keynsham_river_level\n",
      "gauge:keynsham_river_level\n",
      "gauge:keynsham_river_level\n",
      "gauge:keynsham_river_level\n",
      "gauge:keynsham_river_level\n",
      "gauge:keynsham_river_level\n",
      "gauge:keynsham_river_level\n",
      "gauge:keynsham_river_level\n",
      "gauge:keynsham_river_level\n",
      "gauge:keynsham_river_level\n",
      "gauge:keynsham_river_level\n",
      "gauge:keynsham_river_level\n",
      "gauge:keynsham_river_level\n",
      "gauge:keynsham_river_level\n",
      "gauge:keynsham_river_level\n",
      "gauge:keynsham_river_level\n",
      "gauge:keynsham_river_level\n",
      "gauge:keynsham_river_level\n",
      "gauge:keynsham_river_level\n",
      "gauge:keynsham_river_level\n",
      "gauge:keynsham_river_level\n",
      "gauge:keynsham_river_level\n",
      "gauge:keynsham_river_level\n",
      "gauge:keynsham_river_level\n",
      "gauge:keynsham_river_level\n",
      "gauge:keynsham_river_level\n",
      "gauge:keynsham_river_level\n",
      "gauge:keynsham_river_level\n",
      "gauge:keynsham_river_level\n",
      "gauge:keynsham_river_level\n",
      "gauge:keynsham_river_level\n",
      "gauge:keynsham_river_level\n",
      "gauge:keynsham_river_level\n",
      "gauge:keynsham_river_level\n",
      "gauge:keynsham_river_level\n",
      "gauge:keynsham_river_level\n",
      "gauge:keynsham_river_level\n",
      "gauge:keynsham_river_level\n",
      "gauge:keynsham_river_level\n",
      "gauge:keynsham_river_level\n",
      "gauge:keynsham_river_level\n",
      "gauge:keynsham_river_level\n",
      "gauge:keynsham_river_level\n",
      "gauge:keynsham_river_level\n",
      "gauge:keynsham_river_level\n",
      "gauge:keynsham_river_level\n",
      "gauge:keynsham_river_level\n",
      "gauge:keynsham_river_level\n",
      "gauge:keynsham_river_level\n",
      "gauge:keynsham_river_level\n",
      "gauge:keynsham_river_level\n",
      "gauge:keynsham_river_level\n",
      "gauge:keynsham_river_level\n",
      "gauge:keynsham_river_level\n",
      "gauge:keynsham_river_level\n",
      "gauge:keynsham_river_level\n",
      "gauge:keynsham_river_level\n",
      "gauge:keynsham_river_level\n",
      "gauge:keynsham_river_level\n",
      "gauge:keynsham_river_level\n"
     ]
    },
    {
     "ename": "KeyboardInterrupt",
     "evalue": "",
     "output_type": "error",
     "traceback": [
      "\u001b[0;31m---------------------------------------------------------------------------\u001b[0m",
      "\u001b[0;31mKeyboardInterrupt\u001b[0m                         Traceback (most recent call last)",
      "Cell \u001b[0;32mIn[1], line 39\u001b[0m\n\u001b[1;32m     36\u001b[0m \u001b[38;5;28mprint\u001b[39m(\u001b[38;5;124m\"\u001b[39m\u001b[38;5;124mServing sensor metrics on :\u001b[39m\u001b[38;5;132;01m{}\u001b[39;00m\u001b[38;5;124m\"\u001b[39m\u001b[38;5;241m.\u001b[39mformat(metrics_port))\n\u001b[1;32m     38\u001b[0m \u001b[38;5;28;01mwhile\u001b[39;00m \u001b[38;5;28;01mTrue\u001b[39;00m:\n\u001b[0;32m---> 39\u001b[0m         \u001b[43mgetheight\u001b[49m\u001b[43m(\u001b[49m\u001b[43m)\u001b[49m\n",
      "Cell \u001b[0;32mIn[1], line 30\u001b[0m, in \u001b[0;36mgetheight\u001b[0;34m()\u001b[0m\n\u001b[1;32m     28\u001b[0m gauge_river_level\u001b[38;5;241m.\u001b[39mset(jprint(response\u001b[38;5;241m.\u001b[39mjson()))\n\u001b[1;32m     29\u001b[0m \u001b[38;5;28mprint\u001b[39m(gauge_river_level)\n\u001b[0;32m---> 30\u001b[0m time\u001b[38;5;241m.\u001b[39msleep(READ_INTERVAL \u001b[38;5;241m*\u001b[39m READ_UNITS)\n",
      "\u001b[0;31mKeyboardInterrupt\u001b[0m: "
     ]
    }
   ],
   "source": [
    "import requests as rq\n",
    "import json\n",
    "import time\n",
    "# Import Gauge and start_http_server from prometheus_client\n",
    "from prometheus_client import Gauge, start_http_server\n",
    "\n",
    "## set read interval\n",
    "READ_INTERVAL = 15\n",
    "\n",
    "## set read interval units. 1 = seconds, 60 = minutes, 3600 = hours, 86400 = days\n",
    "READ_UNITS = 1\n",
    "\n",
    "## initialise the gauges\n",
    "\n",
    "gauge_river_level = Gauge('keynsham_river_level', 'River level at Keynsham Rivermeads')\n",
    "\n",
    "## define function jprint which makes the json output look pretty and easy to understand\n",
    "def jprint(obj):\n",
    "        height = json.dumps(obj['items']['latestReading']['value'])\n",
    "        return float(height)\n",
    "        \n",
    "\n",
    "## define function getriver height from api\n",
    "def getheight():\n",
    "        ## get response\n",
    "        response = rq.get(\"https://environment.data.gov.uk/flood-monitoring/id/measures/531160-level-stage-i-15_min-mASD.json\")\n",
    "        ## set river guage river level to output of jprint function\n",
    "        gauge_river_level.set(jprint(response.json()))\n",
    "        print(gauge_river_level)\n",
    "        time.sleep(READ_INTERVAL * READ_UNITS)\n",
    "\n",
    "if __name__ == \"__main__\":\n",
    "        #expose metrics\n",
    "        metrics_port = 8897\n",
    "        start_http_server(metrics_port)\n",
    "        print(\"Serving sensor metrics on :{}\".format(metrics_port))\n",
    "\n",
    "        while True:\n",
    "                getheight()"
   ]
  }
 ],
 "metadata": {
  "kernelspec": {
   "display_name": "env",
   "language": "python",
   "name": "python3"
  },
  "language_info": {
   "codemirror_mode": {
    "name": "ipython",
    "version": 3
   },
   "file_extension": ".py",
   "mimetype": "text/x-python",
   "name": "python",
   "nbconvert_exporter": "python",
   "pygments_lexer": "ipython3",
   "version": "3.11.7"
  }
 },
 "nbformat": 4,
 "nbformat_minor": 2
}
